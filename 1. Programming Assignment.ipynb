{
  "nbformat": 4,
  "nbformat_minor": 0,
  "metadata": {
    "kernelspec": {
      "display_name": "Python 3",
      "language": "python",
      "name": "python3"
    },
    "language_info": {
      "codemirror_mode": {
        "name": "ipython",
        "version": 3
      },
      "file_extension": ".py",
      "mimetype": "text/x-python",
      "name": "python",
      "nbconvert_exporter": "python",
      "pygments_lexer": "ipython3",
      "version": "3.7.3"
    },
    "toc": {
      "base_numbering": "1",
      "nav_menu": {},
      "number_sections": true,
      "sideBar": true,
      "skip_h1_title": false,
      "title_cell": "Table of Contents",
      "title_sidebar": "Contents",
      "toc_cell": false,
      "toc_position": {
        "height": "calc(100% - 180px)",
        "left": "10px",
        "top": "150px",
        "width": "261.0714416503906px"
      },
      "toc_section_display": true,
      "toc_window_display": true
    },
    "colab": {
      "name": "Assignment_1.ipynb",
      "provenance": [],
      "include_colab_link": true
    }
  },
  "cells": [
    {
      "cell_type": "markdown",
      "metadata": {
        "id": "view-in-github",
        "colab_type": "text"
      },
      "source": [
        "<a href=\"https://colab.research.google.com/github/janinerottmann/Practical-Data-Science/blob/master/1.%20Programming%20Assignment.ipynb\" target=\"_parent\"><img src=\"https://colab.research.google.com/assets/colab-badge.svg\" alt=\"Open In Colab\"/></a>"
      ]
    },
    {
      "cell_type": "markdown",
      "metadata": {
        "id": "N2wjdelCh8Se",
        "colab_type": "text"
      },
      "source": [
        "*Practical Data Science 19/20*\n",
        "# Programming Assignment"
      ]
    },
    {
      "cell_type": "markdown",
      "metadata": {
        "id": "NdD823I9h8Sg",
        "colab_type": "text"
      },
      "source": [
        "In this programming assignment you need to apply your new `numpy`, `pandas` and `matplotlib` knowledge. You will need to do several [`groupby`](https://pandas.pydata.org/pandas-docs/stable/generated/pandas.DataFrame.groupby.html)s and [`join`](https://pandas.pydata.org/pandas-docs/stable/generated/pandas.DataFrame.join.html)`s to solve the task. "
      ]
    },
    {
      "cell_type": "markdown",
      "metadata": {
        "id": "oy3shn2Hh8Sh",
        "colab_type": "text"
      },
      "source": [
        "Load required packages"
      ]
    },
    {
      "cell_type": "code",
      "metadata": {
        "id": "B_rhesywh8Si",
        "colab_type": "code",
        "colab": {}
      },
      "source": [
        "import pandas as pd\n",
        "%matplotlib inline "
      ],
      "execution_count": 0,
      "outputs": []
    },
    {
      "cell_type": "markdown",
      "metadata": {
        "id": "ZMbXDISvh8Sl",
        "colab_type": "text"
      },
      "source": [
        "Load Data"
      ]
    },
    {
      "cell_type": "code",
      "metadata": {
        "id": "UAOFdqp0h8Sm",
        "colab_type": "code",
        "colab": {}
      },
      "source": [
        "DATA_URL = 'https://raw.githubusercontent.com/pds1920/_a1-template/master/data/'\n",
        "\n",
        "transactions    = pd.read_csv(DATA_URL + '/sales_train.csv.gz')\n",
        "items           = pd.read_csv(DATA_URL + '/items.csv')\n",
        "item_categories = pd.read_csv(DATA_URL + '/item_categories.csv')"
      ],
      "execution_count": 0,
      "outputs": []
    },
    {
      "cell_type": "markdown",
      "metadata": {
        "id": "sUoenBNUh8So",
        "colab_type": "text"
      },
      "source": [
        "## Get to know the data\n",
        "Print the **shape** of the loaded dataframes.\n",
        "- You can use a list comprehension here"
      ]
    },
    {
      "cell_type": "code",
      "metadata": {
        "id": "_Rz67s6Xh8So",
        "colab_type": "code",
        "outputId": "6d875195-68ab-4da5-d179-f93d272c8d5b",
        "colab": {
          "base_uri": "https://localhost:8080/",
          "height": 85
        }
      },
      "source": [
        "all_df = [transactions, items, item_categories]\n",
        "\n",
        "for df in range(0,len(all_df)):\n",
        "  shapes_df = all_df[df].shape\n",
        "  print(shapes_df)\n",
        "  \n",
        "shapes_df"
      ],
      "execution_count": 0,
      "outputs": [
        {
          "output_type": "stream",
          "text": [
            "(1400001, 6)\n",
            "(22170, 3)\n",
            "(84, 2)\n"
          ],
          "name": "stdout"
        },
        {
          "output_type": "execute_result",
          "data": {
            "text/plain": [
              "(84, 2)"
            ]
          },
          "metadata": {
            "tags": []
          },
          "execution_count": 131
        }
      ]
    },
    {
      "cell_type": "markdown",
      "metadata": {
        "id": "TYshcS9xh8Sq",
        "colab_type": "text"
      },
      "source": [
        "Use [`df.head`](https://pandas.pydata.org/pandas-docs/stable/generated/pandas.DataFrame.head.html) function to print several rows of each data frame.  Examine the features you are given."
      ]
    },
    {
      "cell_type": "code",
      "metadata": {
        "id": "3GYDSrYvh8Sr",
        "colab_type": "code",
        "outputId": "02b63b38-7352-4646-efff-0fda2f725e5a",
        "colab": {
          "base_uri": "https://localhost:8080/",
          "height": 204
        }
      },
      "source": [
        "transactions.head()"
      ],
      "execution_count": 0,
      "outputs": [
        {
          "output_type": "execute_result",
          "data": {
            "text/html": [
              "<div>\n",
              "<style scoped>\n",
              "    .dataframe tbody tr th:only-of-type {\n",
              "        vertical-align: middle;\n",
              "    }\n",
              "\n",
              "    .dataframe tbody tr th {\n",
              "        vertical-align: top;\n",
              "    }\n",
              "\n",
              "    .dataframe thead th {\n",
              "        text-align: right;\n",
              "    }\n",
              "</style>\n",
              "<table border=\"1\" class=\"dataframe\">\n",
              "  <thead>\n",
              "    <tr style=\"text-align: right;\">\n",
              "      <th></th>\n",
              "      <th>date</th>\n",
              "      <th>date_block_num</th>\n",
              "      <th>shop_id</th>\n",
              "      <th>item_id</th>\n",
              "      <th>item_price</th>\n",
              "      <th>item_cnt_day</th>\n",
              "    </tr>\n",
              "  </thead>\n",
              "  <tbody>\n",
              "    <tr>\n",
              "      <th>0</th>\n",
              "      <td>14.10.2013</td>\n",
              "      <td>9</td>\n",
              "      <td>19</td>\n",
              "      <td>7204</td>\n",
              "      <td>199.0</td>\n",
              "      <td>1.0</td>\n",
              "    </tr>\n",
              "    <tr>\n",
              "      <th>1</th>\n",
              "      <td>23.10.2013</td>\n",
              "      <td>9</td>\n",
              "      <td>19</td>\n",
              "      <td>7096</td>\n",
              "      <td>799.0</td>\n",
              "      <td>1.0</td>\n",
              "    </tr>\n",
              "    <tr>\n",
              "      <th>2</th>\n",
              "      <td>19.10.2013</td>\n",
              "      <td>9</td>\n",
              "      <td>19</td>\n",
              "      <td>7204</td>\n",
              "      <td>199.0</td>\n",
              "      <td>1.0</td>\n",
              "    </tr>\n",
              "    <tr>\n",
              "      <th>3</th>\n",
              "      <td>17.10.2013</td>\n",
              "      <td>9</td>\n",
              "      <td>19</td>\n",
              "      <td>7206</td>\n",
              "      <td>199.0</td>\n",
              "      <td>1.0</td>\n",
              "    </tr>\n",
              "    <tr>\n",
              "      <th>4</th>\n",
              "      <td>13.10.2013</td>\n",
              "      <td>9</td>\n",
              "      <td>19</td>\n",
              "      <td>7459</td>\n",
              "      <td>299.0</td>\n",
              "      <td>1.0</td>\n",
              "    </tr>\n",
              "  </tbody>\n",
              "</table>\n",
              "</div>"
            ],
            "text/plain": [
              "         date  date_block_num  shop_id  item_id  item_price  item_cnt_day\n",
              "0  14.10.2013               9       19     7204       199.0           1.0\n",
              "1  23.10.2013               9       19     7096       799.0           1.0\n",
              "2  19.10.2013               9       19     7204       199.0           1.0\n",
              "3  17.10.2013               9       19     7206       199.0           1.0\n",
              "4  13.10.2013               9       19     7459       299.0           1.0"
            ]
          },
          "metadata": {
            "tags": []
          },
          "execution_count": 132
        }
      ]
    },
    {
      "cell_type": "code",
      "metadata": {
        "id": "ojXNQtq8h8St",
        "colab_type": "code",
        "outputId": "871ec0da-7de5-4b77-cad0-0720a1abc084",
        "colab": {
          "base_uri": "https://localhost:8080/",
          "height": 204
        }
      },
      "source": [
        "items.head()"
      ],
      "execution_count": 0,
      "outputs": [
        {
          "output_type": "execute_result",
          "data": {
            "text/html": [
              "<div>\n",
              "<style scoped>\n",
              "    .dataframe tbody tr th:only-of-type {\n",
              "        vertical-align: middle;\n",
              "    }\n",
              "\n",
              "    .dataframe tbody tr th {\n",
              "        vertical-align: top;\n",
              "    }\n",
              "\n",
              "    .dataframe thead th {\n",
              "        text-align: right;\n",
              "    }\n",
              "</style>\n",
              "<table border=\"1\" class=\"dataframe\">\n",
              "  <thead>\n",
              "    <tr style=\"text-align: right;\">\n",
              "      <th></th>\n",
              "      <th>item_name</th>\n",
              "      <th>item_id</th>\n",
              "      <th>item_category_id</th>\n",
              "    </tr>\n",
              "  </thead>\n",
              "  <tbody>\n",
              "    <tr>\n",
              "      <th>0</th>\n",
              "      <td>! ВО ВЛАСТИ НАВАЖДЕНИЯ (ПЛАСТ.)         D</td>\n",
              "      <td>0</td>\n",
              "      <td>40</td>\n",
              "    </tr>\n",
              "    <tr>\n",
              "      <th>1</th>\n",
              "      <td>!ABBYY FineReader 12 Professional Edition Full...</td>\n",
              "      <td>1</td>\n",
              "      <td>76</td>\n",
              "    </tr>\n",
              "    <tr>\n",
              "      <th>2</th>\n",
              "      <td>***В ЛУЧАХ СЛАВЫ   (UNV)                    D</td>\n",
              "      <td>2</td>\n",
              "      <td>40</td>\n",
              "    </tr>\n",
              "    <tr>\n",
              "      <th>3</th>\n",
              "      <td>***ГОЛУБАЯ ВОЛНА  (Univ)                      D</td>\n",
              "      <td>3</td>\n",
              "      <td>40</td>\n",
              "    </tr>\n",
              "    <tr>\n",
              "      <th>4</th>\n",
              "      <td>***КОРОБКА (СТЕКЛО)                       D</td>\n",
              "      <td>4</td>\n",
              "      <td>40</td>\n",
              "    </tr>\n",
              "  </tbody>\n",
              "</table>\n",
              "</div>"
            ],
            "text/plain": [
              "                                           item_name  item_id  item_category_id\n",
              "0          ! ВО ВЛАСТИ НАВАЖДЕНИЯ (ПЛАСТ.)         D        0                40\n",
              "1  !ABBYY FineReader 12 Professional Edition Full...        1                76\n",
              "2      ***В ЛУЧАХ СЛАВЫ   (UNV)                    D        2                40\n",
              "3    ***ГОЛУБАЯ ВОЛНА  (Univ)                      D        3                40\n",
              "4        ***КОРОБКА (СТЕКЛО)                       D        4                40"
            ]
          },
          "metadata": {
            "tags": []
          },
          "execution_count": 133
        }
      ]
    },
    {
      "cell_type": "code",
      "metadata": {
        "scrolled": true,
        "id": "N38NjU2dh8Sv",
        "colab_type": "code",
        "outputId": "30895a14-13ad-4fea-9b4e-44dddc143cc7",
        "colab": {
          "base_uri": "https://localhost:8080/",
          "height": 204
        }
      },
      "source": [
        "item_categories.head()"
      ],
      "execution_count": 0,
      "outputs": [
        {
          "output_type": "execute_result",
          "data": {
            "text/html": [
              "<div>\n",
              "<style scoped>\n",
              "    .dataframe tbody tr th:only-of-type {\n",
              "        vertical-align: middle;\n",
              "    }\n",
              "\n",
              "    .dataframe tbody tr th {\n",
              "        vertical-align: top;\n",
              "    }\n",
              "\n",
              "    .dataframe thead th {\n",
              "        text-align: right;\n",
              "    }\n",
              "</style>\n",
              "<table border=\"1\" class=\"dataframe\">\n",
              "  <thead>\n",
              "    <tr style=\"text-align: right;\">\n",
              "      <th></th>\n",
              "      <th>item_category_name</th>\n",
              "      <th>item_category_id</th>\n",
              "    </tr>\n",
              "  </thead>\n",
              "  <tbody>\n",
              "    <tr>\n",
              "      <th>0</th>\n",
              "      <td>PC - Гарнитуры/Наушники</td>\n",
              "      <td>0</td>\n",
              "    </tr>\n",
              "    <tr>\n",
              "      <th>1</th>\n",
              "      <td>Аксессуары - PS2</td>\n",
              "      <td>1</td>\n",
              "    </tr>\n",
              "    <tr>\n",
              "      <th>2</th>\n",
              "      <td>Аксессуары - PS3</td>\n",
              "      <td>2</td>\n",
              "    </tr>\n",
              "    <tr>\n",
              "      <th>3</th>\n",
              "      <td>Аксессуары - PS4</td>\n",
              "      <td>3</td>\n",
              "    </tr>\n",
              "    <tr>\n",
              "      <th>4</th>\n",
              "      <td>Аксессуары - PSP</td>\n",
              "      <td>4</td>\n",
              "    </tr>\n",
              "  </tbody>\n",
              "</table>\n",
              "</div>"
            ],
            "text/plain": [
              "        item_category_name  item_category_id\n",
              "0  PC - Гарнитуры/Наушники                 0\n",
              "1         Аксессуары - PS2                 1\n",
              "2         Аксессуары - PS3                 2\n",
              "3         Аксессуары - PS4                 3\n",
              "4         Аксессуары - PSP                 4"
            ]
          },
          "metadata": {
            "tags": []
          },
          "execution_count": 134
        }
      ]
    },
    {
      "cell_type": "markdown",
      "metadata": {
        "id": "04pO0Ghyh8Sx",
        "colab_type": "text"
      },
      "source": [
        "Now use your `pandas` skills to get answers for the following questions. "
      ]
    },
    {
      "cell_type": "markdown",
      "metadata": {
        "id": "QICRKtgLh8Sy",
        "colab_type": "text"
      },
      "source": [
        "## What was the maximum total revenue among all the shops in June, 2014?\n",
        "\n",
        "\n",
        "* Revenue refers to total sales minus value of goods returned.\n",
        "* Sometimes items are returned, find such examples in the dataset. \n",
        "* It is handy to split `date` field into [`day`, `month`, `year`] components and use `df.year == 14` and `df.month == 6` in order to select target subset of dates.\n",
        "* You may work with `date` feature as with strings, or you may first convert it to `pd.datetime` type with `pd.to_datetime` function, but do not forget to set correct `format` argument."
      ]
    },
    {
      "cell_type": "code",
      "metadata": {
        "id": "Mghz0FREaeZP",
        "colab_type": "code",
        "outputId": "68843ea9-00d2-482d-f16e-004a62a5e0ee",
        "colab": {
          "base_uri": "https://localhost:8080/",
          "height": 204
        }
      },
      "source": [
        "# check for returned items\n",
        "transactions_returned = transactions[transactions['item_cnt_day'] < 0]\n",
        "transactions_returned.head()"
      ],
      "execution_count": 0,
      "outputs": [
        {
          "output_type": "execute_result",
          "data": {
            "text/html": [
              "<div>\n",
              "<style scoped>\n",
              "    .dataframe tbody tr th:only-of-type {\n",
              "        vertical-align: middle;\n",
              "    }\n",
              "\n",
              "    .dataframe tbody tr th {\n",
              "        vertical-align: top;\n",
              "    }\n",
              "\n",
              "    .dataframe thead th {\n",
              "        text-align: right;\n",
              "    }\n",
              "</style>\n",
              "<table border=\"1\" class=\"dataframe\">\n",
              "  <thead>\n",
              "    <tr style=\"text-align: right;\">\n",
              "      <th></th>\n",
              "      <th>date</th>\n",
              "      <th>date_block_num</th>\n",
              "      <th>shop_id</th>\n",
              "      <th>item_id</th>\n",
              "      <th>item_price</th>\n",
              "      <th>item_cnt_day</th>\n",
              "    </tr>\n",
              "  </thead>\n",
              "  <tbody>\n",
              "    <tr>\n",
              "      <th>701</th>\n",
              "      <td>13.10.2013</td>\n",
              "      <td>9</td>\n",
              "      <td>18</td>\n",
              "      <td>15675</td>\n",
              "      <td>199.0</td>\n",
              "      <td>-1.0</td>\n",
              "    </tr>\n",
              "    <tr>\n",
              "      <th>1798</th>\n",
              "      <td>09.10.2013</td>\n",
              "      <td>9</td>\n",
              "      <td>57</td>\n",
              "      <td>6501</td>\n",
              "      <td>699.0</td>\n",
              "      <td>-1.0</td>\n",
              "    </tr>\n",
              "    <tr>\n",
              "      <th>2647</th>\n",
              "      <td>09.10.2013</td>\n",
              "      <td>9</td>\n",
              "      <td>17</td>\n",
              "      <td>6091</td>\n",
              "      <td>999.0</td>\n",
              "      <td>-1.0</td>\n",
              "    </tr>\n",
              "    <tr>\n",
              "      <th>3302</th>\n",
              "      <td>09.10.2013</td>\n",
              "      <td>9</td>\n",
              "      <td>57</td>\n",
              "      <td>4181</td>\n",
              "      <td>1090.0</td>\n",
              "      <td>-1.0</td>\n",
              "    </tr>\n",
              "    <tr>\n",
              "      <th>3381</th>\n",
              "      <td>10.10.2013</td>\n",
              "      <td>9</td>\n",
              "      <td>57</td>\n",
              "      <td>4241</td>\n",
              "      <td>999.0</td>\n",
              "      <td>-1.0</td>\n",
              "    </tr>\n",
              "  </tbody>\n",
              "</table>\n",
              "</div>"
            ],
            "text/plain": [
              "            date  date_block_num  shop_id  item_id  item_price  item_cnt_day\n",
              "701   13.10.2013               9       18    15675       199.0          -1.0\n",
              "1798  09.10.2013               9       57     6501       699.0          -1.0\n",
              "2647  09.10.2013               9       17     6091       999.0          -1.0\n",
              "3302  09.10.2013               9       57     4181      1090.0          -1.0\n",
              "3381  10.10.2013               9       57     4241       999.0          -1.0"
            ]
          },
          "metadata": {
            "tags": []
          },
          "execution_count": 135
        }
      ]
    },
    {
      "cell_type": "code",
      "metadata": {
        "id": "rZ7Fmkn1SnBl",
        "colab_type": "code",
        "outputId": "9b0cbea8-1a4b-48a3-9fa9-aebbb5cf53fc",
        "colab": {
          "base_uri": "https://localhost:8080/",
          "height": 68
        }
      },
      "source": [
        "#split date in day, month, year\n",
        "import datetime\n",
        "\n",
        "transactions['month'] = pd.DatetimeIndex(transactions['date']).month\n",
        "transactions['day'] = pd.DatetimeIndex(transactions['date']).day\n",
        "transactions['year'] = pd.DatetimeIndex(transactions['date']).year\n",
        "\n",
        "# filter transactions by june 2014\n",
        "transactions_filtered = transactions[((transactions['year'] == 2014) \n",
        "                        & (transactions['month'] == 6))]\n",
        "\n",
        "# revenue in june 2014\n",
        "transactions_filtered['revenue'] = transactions_filtered['item_price']*transactions_filtered['item_cnt_day'].copy()\n",
        "\n",
        "# revenue in june 2014 by shop\n",
        "max_revenue = transactions_filtered.groupby('shop_id')['revenue'].sum() #sum substracts negativ revenues (due to returns)\n",
        "max_revenue.sort_values(ascending=False).head(1) #shop with highest revenue in june 2014"
      ],
      "execution_count": 0,
      "outputs": [
        {
          "output_type": "execute_result",
          "data": {
            "text/plain": [
              "shop_id\n",
              "31    5761264.7\n",
              "Name: revenue, dtype: float64"
            ]
          },
          "metadata": {
            "tags": []
          },
          "execution_count": 192
        }
      ]
    },
    {
      "cell_type": "markdown",
      "metadata": {
        "id": "sJCm6mP1h8S4",
        "colab_type": "text"
      },
      "source": [
        "## How many items are there?\n",
        "\n",
        "* Let's assume, that the items are returned for the same price as they had been sold"
      ]
    },
    {
      "cell_type": "code",
      "metadata": {
        "id": "MMXdU2kHgowC",
        "colab_type": "code",
        "outputId": "a0f0bba7-5d92-4b0d-aebb-238008965ddf",
        "colab": {
          "base_uri": "https://localhost:8080/",
          "height": 34
        }
      },
      "source": [
        "# number of prices per item\n",
        "prices = transactions.groupby(['item_id'])['item_price'].nunique().to_frame()\n",
        "\n",
        "# filter items with unique prices\n",
        "num_items_constant_price = prices[prices['item_price'] == 1].shape[0]\n",
        "num_items_constant_price"
      ],
      "execution_count": 0,
      "outputs": [
        {
          "output_type": "execute_result",
          "data": {
            "text/plain": [
              "5651"
            ]
          },
          "metadata": {
            "tags": []
          },
          "execution_count": 140
        }
      ]
    },
    {
      "cell_type": "markdown",
      "metadata": {
        "id": "j7t73FU4h8S9",
        "colab_type": "text"
      },
      "source": [
        "## What was the variance of the number of sold items per day sequence for the shop with `shop_id = 25` in December, 2014?\n",
        "\n",
        "* Do not count the items that were sold but returned back later.\n",
        "* Fill `total_num_items_sold`: An (ordered) array that contains the total number of items sold on each day \n",
        "* Fill `days`: An (ordered) array that contains all relevant days\n",
        "* Then compute variance of the of `total_num_items_sold`\n",
        "* If there were no sales at a given day, ***do not*** impute missing value with zero, just ignore that day"
      ]
    },
    {
      "cell_type": "code",
      "metadata": {
        "id": "V87oFxXgh8S_",
        "colab_type": "code",
        "outputId": "db9d38e2-b7cf-4964-92ca-45c92c287841",
        "colab": {
          "base_uri": "https://localhost:8080/",
          "height": 34
        }
      },
      "source": [
        "# shop 25 data\n",
        "shop_id = 25\n",
        "sales_december_shop25 = transactions[(transactions['shop_id'] == shop_id) &\n",
        "                        (transactions['year'] == 2014) &\n",
        "                        (transactions['month'] == 12)]\n",
        "\n",
        "# remove returned items\n",
        "sales_without_returns = sales_december_shop25.drop_duplicates(subset = 'item_id', keep = False)\n",
        "\n",
        "# number of items sold on each day\n",
        "total_num_items_sold = sales_without_returns.groupby('day')['item_cnt_day'].sum()\n",
        "\n",
        "# variance of sold items by day\n",
        "total_num_items_sold_var = total_num_items_sold.var()\n",
        "\n",
        "total_num_items_sold_var"
      ],
      "execution_count": 0,
      "outputs": [
        {
          "output_type": "execute_result",
          "data": {
            "text/plain": [
              "1720.2540229885058"
            ]
          },
          "metadata": {
            "tags": []
          },
          "execution_count": 182
        }
      ]
    },
    {
      "cell_type": "markdown",
      "metadata": {
        "id": "s7Os_Tdzh8TD",
        "colab_type": "text"
      },
      "source": [
        "## Vizualization of the daily items sold\n",
        "\n",
        "Use `total_num_items_sold` and `days` arrays to and plot the daily revenue of `shop_id = 25` in December, 2014.\n",
        "\n",
        "* plot-title: 'Daily items sold for shop_id = 25'"
      ]
    },
    {
      "cell_type": "code",
      "metadata": {
        "id": "acRLMH8Hh8TE",
        "colab_type": "code",
        "outputId": "98d21b17-416f-4237-d3e9-360b37b0182b",
        "colab": {
          "base_uri": "https://localhost:8080/",
          "height": 298
        }
      },
      "source": [
        "import numpy as np\n",
        "total_num_items_sold.plot(kind='bar', x='day', title='Daily items sold for shop_id = 25');"
      ],
      "execution_count": 0,
      "outputs": [
        {
          "output_type": "display_data",
          "data": {
            "image/png": "[encoded data removed]",
            "text/plain": [
              "<Figure size 432x288 with 1 Axes>"
            ]
          },
          "metadata": {
            "tags": []
          }
        }
      ]
    },
    {
      "cell_type": "markdown",
      "metadata": {
        "id": "XMjY7dish8TG",
        "colab_type": "text"
      },
      "source": [
        "## What item category that generated the highest revenue in spring 2014?</b></li>\n",
        "\n",
        "   \n",
        "Spring is the period from March to Mai."
      ]
    },
    {
      "cell_type": "code",
      "metadata": {
        "id": "1XaG_Y09h8TG",
        "colab_type": "code",
        "outputId": "b3c91b44-ecec-4ba3-e295-8d8bc77f67c5",
        "colab": {
          "base_uri": "https://localhost:8080/",
          "height": 68
        }
      },
      "source": [
        "# filter transactions in period form march to mai\n",
        "spring_data = transactions[(transactions['year'] == 2014) &\n",
        "                           (transactions['month'] >= 3) &\n",
        "                           (transactions['month'] <= 5)]\n",
        "\n",
        "# calculate revenues\n",
        "spring_data.loc[:, 'revenue'] = spring_data['item_price'] * spring_data['item_cnt_day'].copy()\n",
        "\n",
        "# add item catagories to data frame\n",
        "item_categories.rename(columns = {'item_category_id': 'item_id'}, inplace = True)\n",
        "data_combined = pd.merge(spring_data, item_categories, on = 'item_id', how = 'left')\n",
        "\n",
        "# group by item\n",
        "category_id_with_max_revenue = data_combined.groupby(['item_id', 'item_category_name'])['revenue'].sum().sort_values(ascending=False).head(1)\n",
        "\n",
        "category_id_with_max_revenue\n"
      ],
      "execution_count": 0,
      "outputs": [
        {
          "output_type": "execute_result",
          "data": {
            "text/plain": [
              "item_id  item_category_name   \n",
              "77       Программы - Обучающие    104290.75\n",
              "Name: revenue, dtype: float64"
            ]
          },
          "metadata": {
            "tags": []
          },
          "execution_count": 193
        }
      ]
    }
  ]
}