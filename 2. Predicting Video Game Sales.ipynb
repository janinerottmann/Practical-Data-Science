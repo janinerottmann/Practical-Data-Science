{
  "nbformat": 4,
  "nbformat_minor": 0,
  "metadata": {
    "kernelspec": {
      "display_name": "Python 3",
      "language": "python",
      "name": "python3"
    },
    "language_info": {
      "codemirror_mode": {
        "name": "ipython",
        "version": 3
      },
      "file_extension": ".py",
      "mimetype": "text/x-python",
      "name": "python",
      "nbconvert_exporter": "python",
      "pygments_lexer": "ipython3",
      "version": "3.7.3"
    },
    "colab": {
      "name": "Assignment_2.ipynb",
      "provenance": [],
      "include_colab_link": true
    }
  },
  "cells": [
    {
      "cell_type": "markdown",
      "metadata": {
        "id": "view-in-github",
        "colab_type": "text"
      },
      "source": [
        "<a href=\"https://colab.research.google.com/github/janinerottmann/Practical-Data-Science/blob/master/2.%20Predicting%20Video%20Game%20Sales.ipynb\" target=\"_parent\"><img src=\"https://colab.research.google.com/assets/colab-badge.svg\" alt=\"Open In Colab\"/></a>"
      ]
    },
    {
      "cell_type": "markdown",
      "metadata": {
        "id": "8lduYlCT4M0e",
        "colab_type": "text"
      },
      "source": [
        "*Practical Data Science 19/20*\n",
        "# Programming Assignment 2 - Predicting Video Game Sales"
      ]
    },
    {
      "cell_type": "markdown",
      "metadata": {
        "id": "zlyBf5p44M0g",
        "colab_type": "text"
      },
      "source": [
        "In this programming assignment you need to apply your new (or refreshed) machine learning knowledge. You will need to create a modeling pipeline training and evaluating a machine learning model build on several numeric as well as categorical features"
      ]
    },
    {
      "cell_type": "markdown",
      "metadata": {
        "id": "EIZbonC_4M0h",
        "colab_type": "text"
      },
      "source": [
        "## Introduction and Dataset\n",
        "\n",
        "You are provided with a dataset containing a list of video games with sales greater than 100.000 copies. Your task is to build a model predicting the yearly global sales (column ``Global_Sales``) of a video game leveraging the available features.\n",
        "\n",
        "To help you get started, the following blocks of code import the dataset using pandas: "
      ]
    },
    {
      "cell_type": "code",
      "metadata": {
        "id": "eIRYGZ4c4M0i",
        "colab_type": "code",
        "colab": {}
      },
      "source": [
        "import pandas as pd"
      ],
      "execution_count": 0,
      "outputs": []
    },
    {
      "cell_type": "code",
      "metadata": {
        "id": "v2ZLnFmB4M0m",
        "colab_type": "code",
        "outputId": "ecc77821-b1c3-4b02-e8a4-a057d4200b8d",
        "colab": {
          "base_uri": "https://localhost:8080/",
          "height": 204
        }
      },
      "source": [
        "data_path = 'https://raw.githubusercontent.com/pds1920/_a2-template/master/data/video_game_sales.csv'\n",
        "game_sales_data = pd.read_csv(data_path)\n",
        "game_sales_data.head()"
      ],
      "execution_count": 0,
      "outputs": [
        {
          "output_type": "execute_result",
          "data": {
            "text/html": [
              "<div>\n",
              "<style scoped>\n",
              "    .dataframe tbody tr th:only-of-type {\n",
              "        vertical-align: middle;\n",
              "    }\n",
              "\n",
              "    .dataframe tbody tr th {\n",
              "        vertical-align: top;\n",
              "    }\n",
              "\n",
              "    .dataframe thead th {\n",
              "        text-align: right;\n",
              "    }\n",
              "</style>\n",
              "<table border=\"1\" class=\"dataframe\">\n",
              "  <thead>\n",
              "    <tr style=\"text-align: right;\">\n",
              "      <th></th>\n",
              "      <th>Name</th>\n",
              "      <th>Platform</th>\n",
              "      <th>Year_of_Release</th>\n",
              "      <th>Genre</th>\n",
              "      <th>Global_Sales</th>\n",
              "      <th>Critic_Score</th>\n",
              "      <th>Critic_Count</th>\n",
              "      <th>User_Score</th>\n",
              "      <th>User_Count</th>\n",
              "      <th>Rating</th>\n",
              "    </tr>\n",
              "  </thead>\n",
              "  <tbody>\n",
              "    <tr>\n",
              "      <th>0</th>\n",
              "      <td>Wii Sports</td>\n",
              "      <td>Wii</td>\n",
              "      <td>2006.0</td>\n",
              "      <td>Sports</td>\n",
              "      <td>82.53</td>\n",
              "      <td>76.0</td>\n",
              "      <td>51.0</td>\n",
              "      <td>8.0</td>\n",
              "      <td>322.0</td>\n",
              "      <td>E</td>\n",
              "    </tr>\n",
              "    <tr>\n",
              "      <th>1</th>\n",
              "      <td>Super Mario Bros.</td>\n",
              "      <td>NES</td>\n",
              "      <td>1985.0</td>\n",
              "      <td>Platform</td>\n",
              "      <td>40.24</td>\n",
              "      <td>NaN</td>\n",
              "      <td>NaN</td>\n",
              "      <td>NaN</td>\n",
              "      <td>NaN</td>\n",
              "      <td>NaN</td>\n",
              "    </tr>\n",
              "    <tr>\n",
              "      <th>2</th>\n",
              "      <td>Mario Kart Wii</td>\n",
              "      <td>Wii</td>\n",
              "      <td>2008.0</td>\n",
              "      <td>Racing</td>\n",
              "      <td>35.52</td>\n",
              "      <td>82.0</td>\n",
              "      <td>73.0</td>\n",
              "      <td>8.3</td>\n",
              "      <td>709.0</td>\n",
              "      <td>E</td>\n",
              "    </tr>\n",
              "    <tr>\n",
              "      <th>3</th>\n",
              "      <td>Wii Sports Resort</td>\n",
              "      <td>Wii</td>\n",
              "      <td>2009.0</td>\n",
              "      <td>Sports</td>\n",
              "      <td>32.77</td>\n",
              "      <td>80.0</td>\n",
              "      <td>73.0</td>\n",
              "      <td>8.0</td>\n",
              "      <td>192.0</td>\n",
              "      <td>E</td>\n",
              "    </tr>\n",
              "    <tr>\n",
              "      <th>4</th>\n",
              "      <td>Pokemon Red/Pokemon Blue</td>\n",
              "      <td>GB</td>\n",
              "      <td>1996.0</td>\n",
              "      <td>Role-Playing</td>\n",
              "      <td>31.37</td>\n",
              "      <td>NaN</td>\n",
              "      <td>NaN</td>\n",
              "      <td>NaN</td>\n",
              "      <td>NaN</td>\n",
              "      <td>NaN</td>\n",
              "    </tr>\n",
              "  </tbody>\n",
              "</table>\n",
              "</div>"
            ],
            "text/plain": [
              "                       Name Platform  ...  User_Count Rating\n",
              "0                Wii Sports      Wii  ...       322.0      E\n",
              "1         Super Mario Bros.      NES  ...         NaN    NaN\n",
              "2            Mario Kart Wii      Wii  ...       709.0      E\n",
              "3         Wii Sports Resort      Wii  ...       192.0      E\n",
              "4  Pokemon Red/Pokemon Blue       GB  ...         NaN    NaN\n",
              "\n",
              "[5 rows x 10 columns]"
            ]
          },
          "metadata": {
            "tags": []
          },
          "execution_count": 30
        }
      ]
    },
    {
      "cell_type": "markdown",
      "metadata": {
        "id": "7ru1g5yk4M0p",
        "colab_type": "text"
      },
      "source": [
        "## Splitting the Dataset\n",
        "\n",
        "Before you can get started training a machine learning model you will have to split the dataframe into features and the target variable (try to use as many features as possible):"
      ]
    },
    {
      "cell_type": "code",
      "metadata": {
        "id": "r8bU8DXJ4M0p",
        "colab_type": "code",
        "outputId": "edcb79bc-a8d4-4af8-9d9f-30dc4e446072",
        "colab": {
          "base_uri": "https://localhost:8080/",
          "height": 204
        }
      },
      "source": [
        "# target variable\n",
        "y = game_sales_data['Global_Sales']\n",
        "\n",
        "# feature variables\n",
        "game_sales_features = ['Platform', 'Year_of_Release', 'Genre', 'Critic_Score', 'Critic_Count', 'User_Score', 'User_Count', 'Rating']\n",
        "X = game_sales_data[game_sales_features]\n",
        "X.head()"
      ],
      "execution_count": 0,
      "outputs": [
        {
          "output_type": "execute_result",
          "data": {
            "text/html": [
              "<div>\n",
              "<style scoped>\n",
              "    .dataframe tbody tr th:only-of-type {\n",
              "        vertical-align: middle;\n",
              "    }\n",
              "\n",
              "    .dataframe tbody tr th {\n",
              "        vertical-align: top;\n",
              "    }\n",
              "\n",
              "    .dataframe thead th {\n",
              "        text-align: right;\n",
              "    }\n",
              "</style>\n",
              "<table border=\"1\" class=\"dataframe\">\n",
              "  <thead>\n",
              "    <tr style=\"text-align: right;\">\n",
              "      <th></th>\n",
              "      <th>Platform</th>\n",
              "      <th>Year_of_Release</th>\n",
              "      <th>Genre</th>\n",
              "      <th>Critic_Score</th>\n",
              "      <th>Critic_Count</th>\n",
              "      <th>User_Score</th>\n",
              "      <th>User_Count</th>\n",
              "      <th>Rating</th>\n",
              "    </tr>\n",
              "  </thead>\n",
              "  <tbody>\n",
              "    <tr>\n",
              "      <th>0</th>\n",
              "      <td>Wii</td>\n",
              "      <td>2006.0</td>\n",
              "      <td>Sports</td>\n",
              "      <td>76.0</td>\n",
              "      <td>51.0</td>\n",
              "      <td>8.0</td>\n",
              "      <td>322.0</td>\n",
              "      <td>E</td>\n",
              "    </tr>\n",
              "    <tr>\n",
              "      <th>1</th>\n",
              "      <td>NES</td>\n",
              "      <td>1985.0</td>\n",
              "      <td>Platform</td>\n",
              "      <td>NaN</td>\n",
              "      <td>NaN</td>\n",
              "      <td>NaN</td>\n",
              "      <td>NaN</td>\n",
              "      <td>NaN</td>\n",
              "    </tr>\n",
              "    <tr>\n",
              "      <th>2</th>\n",
              "      <td>Wii</td>\n",
              "      <td>2008.0</td>\n",
              "      <td>Racing</td>\n",
              "      <td>82.0</td>\n",
              "      <td>73.0</td>\n",
              "      <td>8.3</td>\n",
              "      <td>709.0</td>\n",
              "      <td>E</td>\n",
              "    </tr>\n",
              "    <tr>\n",
              "      <th>3</th>\n",
              "      <td>Wii</td>\n",
              "      <td>2009.0</td>\n",
              "      <td>Sports</td>\n",
              "      <td>80.0</td>\n",
              "      <td>73.0</td>\n",
              "      <td>8.0</td>\n",
              "      <td>192.0</td>\n",
              "      <td>E</td>\n",
              "    </tr>\n",
              "    <tr>\n",
              "      <th>4</th>\n",
              "      <td>GB</td>\n",
              "      <td>1996.0</td>\n",
              "      <td>Role-Playing</td>\n",
              "      <td>NaN</td>\n",
              "      <td>NaN</td>\n",
              "      <td>NaN</td>\n",
              "      <td>NaN</td>\n",
              "      <td>NaN</td>\n",
              "    </tr>\n",
              "  </tbody>\n",
              "</table>\n",
              "</div>"
            ],
            "text/plain": [
              "  Platform  Year_of_Release         Genre  ...  User_Score  User_Count  Rating\n",
              "0      Wii           2006.0        Sports  ...         8.0       322.0       E\n",
              "1      NES           1985.0      Platform  ...         NaN         NaN     NaN\n",
              "2      Wii           2008.0        Racing  ...         8.3       709.0       E\n",
              "3      Wii           2009.0        Sports  ...         8.0       192.0       E\n",
              "4       GB           1996.0  Role-Playing  ...         NaN         NaN     NaN\n",
              "\n",
              "[5 rows x 8 columns]"
            ]
          },
          "metadata": {
            "tags": []
          },
          "execution_count": 31
        }
      ]
    },
    {
      "cell_type": "code",
      "metadata": {
        "id": "CdN72qGMI3Hc",
        "colab_type": "code",
        "outputId": "b62ef0c3-dc90-4a12-810f-6efd53e52f82",
        "colab": {
          "base_uri": "https://localhost:8080/",
          "height": 297
        }
      },
      "source": [
        "X.describe()"
      ],
      "execution_count": 0,
      "outputs": [
        {
          "output_type": "execute_result",
          "data": {
            "text/html": [
              "<div>\n",
              "<style scoped>\n",
              "    .dataframe tbody tr th:only-of-type {\n",
              "        vertical-align: middle;\n",
              "    }\n",
              "\n",
              "    .dataframe tbody tr th {\n",
              "        vertical-align: top;\n",
              "    }\n",
              "\n",
              "    .dataframe thead th {\n",
              "        text-align: right;\n",
              "    }\n",
              "</style>\n",
              "<table border=\"1\" class=\"dataframe\">\n",
              "  <thead>\n",
              "    <tr style=\"text-align: right;\">\n",
              "      <th></th>\n",
              "      <th>Year_of_Release</th>\n",
              "      <th>Critic_Score</th>\n",
              "      <th>Critic_Count</th>\n",
              "      <th>User_Score</th>\n",
              "      <th>User_Count</th>\n",
              "    </tr>\n",
              "  </thead>\n",
              "  <tbody>\n",
              "    <tr>\n",
              "      <th>count</th>\n",
              "      <td>16442.000000</td>\n",
              "      <td>8130.000000</td>\n",
              "      <td>8130.000000</td>\n",
              "      <td>10007.000000</td>\n",
              "      <td>7585.000000</td>\n",
              "    </tr>\n",
              "    <tr>\n",
              "      <th>mean</th>\n",
              "      <td>2006.486437</td>\n",
              "      <td>68.976015</td>\n",
              "      <td>26.358549</td>\n",
              "      <td>7.126238</td>\n",
              "      <td>162.277521</td>\n",
              "    </tr>\n",
              "    <tr>\n",
              "      <th>std</th>\n",
              "      <td>5.879730</td>\n",
              "      <td>13.935162</td>\n",
              "      <td>18.978236</td>\n",
              "      <td>1.306190</td>\n",
              "      <td>561.459579</td>\n",
              "    </tr>\n",
              "    <tr>\n",
              "      <th>min</th>\n",
              "      <td>1980.000000</td>\n",
              "      <td>13.000000</td>\n",
              "      <td>3.000000</td>\n",
              "      <td>0.000000</td>\n",
              "      <td>4.000000</td>\n",
              "    </tr>\n",
              "    <tr>\n",
              "      <th>25%</th>\n",
              "      <td>2003.000000</td>\n",
              "      <td>60.000000</td>\n",
              "      <td>12.000000</td>\n",
              "      <td>6.800000</td>\n",
              "      <td>10.000000</td>\n",
              "    </tr>\n",
              "    <tr>\n",
              "      <th>50%</th>\n",
              "      <td>2007.000000</td>\n",
              "      <td>71.000000</td>\n",
              "      <td>21.000000</td>\n",
              "      <td>7.130000</td>\n",
              "      <td>24.000000</td>\n",
              "    </tr>\n",
              "    <tr>\n",
              "      <th>75%</th>\n",
              "      <td>2010.000000</td>\n",
              "      <td>79.000000</td>\n",
              "      <td>36.000000</td>\n",
              "      <td>8.000000</td>\n",
              "      <td>81.000000</td>\n",
              "    </tr>\n",
              "    <tr>\n",
              "      <th>max</th>\n",
              "      <td>2020.000000</td>\n",
              "      <td>98.000000</td>\n",
              "      <td>113.000000</td>\n",
              "      <td>9.700000</td>\n",
              "      <td>10665.000000</td>\n",
              "    </tr>\n",
              "  </tbody>\n",
              "</table>\n",
              "</div>"
            ],
            "text/plain": [
              "       Year_of_Release  Critic_Score  Critic_Count    User_Score    User_Count\n",
              "count     16442.000000   8130.000000   8130.000000  10007.000000   7585.000000\n",
              "mean       2006.486437     68.976015     26.358549      7.126238    162.277521\n",
              "std           5.879730     13.935162     18.978236      1.306190    561.459579\n",
              "min        1980.000000     13.000000      3.000000      0.000000      4.000000\n",
              "25%        2003.000000     60.000000     12.000000      6.800000     10.000000\n",
              "50%        2007.000000     71.000000     21.000000      7.130000     24.000000\n",
              "75%        2010.000000     79.000000     36.000000      8.000000     81.000000\n",
              "max        2020.000000     98.000000    113.000000      9.700000  10665.000000"
            ]
          },
          "metadata": {
            "tags": []
          },
          "execution_count": 32
        }
      ]
    },
    {
      "cell_type": "code",
      "metadata": {
        "id": "r_soq1kUKkes",
        "colab_type": "code",
        "outputId": "7d365bbe-2ece-4e90-94c2-b886e2094859",
        "colab": {
          "base_uri": "https://localhost:8080/",
          "height": 170
        }
      },
      "source": [
        "y.describe()"
      ],
      "execution_count": 0,
      "outputs": [
        {
          "output_type": "execute_result",
          "data": {
            "text/plain": [
              "count    16711.000000\n",
              "mean         0.533713\n",
              "std          1.548282\n",
              "min          0.010000\n",
              "25%          0.060000\n",
              "50%          0.170000\n",
              "75%          0.470000\n",
              "max         82.530000\n",
              "Name: Global_Sales, dtype: float64"
            ]
          },
          "metadata": {
            "tags": []
          },
          "execution_count": 33
        }
      ]
    },
    {
      "cell_type": "markdown",
      "metadata": {
        "id": "xmCRVq-Y4M0s",
        "colab_type": "text"
      },
      "source": [
        "Next, you will have to create a train-test split in order to be able to evaluate your models. Use 80\\% of the data for training and 20\\% for evaluation (take a look at the sklearn [documentation](https://scikit-learn.org/stable/modules/generated/sklearn.model_selection.train_test_split.html) to identify the relevant parameters):"
      ]
    },
    {
      "cell_type": "code",
      "metadata": {
        "id": "nwy9p4oe4M0t",
        "colab_type": "code",
        "colab": {}
      },
      "source": [
        "import numpy as np\n",
        "from sklearn.model_selection import train_test_split\n",
        "X_train, X_test, y_train, y_test = train_test_split(X, y, train_size=0.8, test_size=0.20, random_state=2)"
      ],
      "execution_count": 0,
      "outputs": []
    },
    {
      "cell_type": "markdown",
      "metadata": {
        "id": "Onk-nwuZ4M0v",
        "colab_type": "text"
      },
      "source": [
        "## Removing missing values\n",
        "If you inspect your training data you will find that some of the variables have missing values. Use the ``SimpleImputer`` to replace missing values in numerical columns with the column mean and missing values in categorical columns with the most frequent value (take a look at the SimpleImputer [documentation](https://scikit-learn.org/stable/modules/generated/sklearn.impute.SimpleImputer.html) to identify the relevant parameters). You can decide if you want to use the simple or the advanced imputation strategy (or just try both)."
      ]
    },
    {
      "cell_type": "code",
      "metadata": {
        "id": "zKHwFrpZNuk2",
        "colab_type": "code",
        "outputId": "af0bf02c-d576-4db3-d233-f05215907247",
        "colab": {
          "base_uri": "https://localhost:8080/",
          "height": 51
        }
      },
      "source": [
        "# columns with missing values:\n",
        "cols_with_missing = X_train.columns.values[X_train.isna().sum() > 0]\n",
        "cols_with_missing"
      ],
      "execution_count": 0,
      "outputs": [
        {
          "output_type": "execute_result",
          "data": {
            "text/plain": [
              "array(['Year_of_Release', 'Genre', 'Critic_Score', 'Critic_Count',\n",
              "       'User_Score', 'User_Count', 'Rating'], dtype=object)"
            ]
          },
          "metadata": {
            "tags": []
          },
          "execution_count": 35
        }
      ]
    },
    {
      "cell_type": "code",
      "metadata": {
        "id": "vNWUDJU2eBgb",
        "colab_type": "code",
        "outputId": "c1a3e0d6-8d89-4bf2-f231-2eb7d2fa06ee",
        "colab": {
          "base_uri": "https://localhost:8080/",
          "height": 34
        }
      },
      "source": [
        "# identify categorical features\n",
        "low_cardinality_cols_train = [cname for cname in X_train.columns if X_train[cname].dtype == \"object\"]\n",
        "low_cardinality_cols_test = [cname for cname in X_test.columns if X_test[cname].dtype == \"object\"]\n",
        "low_cardinality_cols_train"
      ],
      "execution_count": 0,
      "outputs": [
        {
          "output_type": "execute_result",
          "data": {
            "text/plain": [
              "['Platform', 'Genre', 'Rating']"
            ]
          },
          "metadata": {
            "tags": []
          },
          "execution_count": 36
        }
      ]
    },
    {
      "cell_type": "code",
      "metadata": {
        "id": "vcOrC25Be9Qt",
        "colab_type": "code",
        "outputId": "24290843-d062-4e91-812d-1c23999cd9b8",
        "colab": {
          "base_uri": "https://localhost:8080/",
          "height": 34
        }
      },
      "source": [
        "# identify numeric features\n",
        "numerical_cols_train = [cname for cname in X_train.columns if X_train[cname].dtype in ['int64', 'float64']]\n",
        "numerical_cols_test = [cname for cname in X_test.columns if X_test[cname].dtype in ['int64', 'float64']]\n",
        "numerical_cols_train"
      ],
      "execution_count": 0,
      "outputs": [
        {
          "output_type": "execute_result",
          "data": {
            "text/plain": [
              "['Year_of_Release', 'Critic_Score', 'Critic_Count', 'User_Score', 'User_Count']"
            ]
          },
          "metadata": {
            "tags": []
          },
          "execution_count": 37
        }
      ]
    },
    {
      "cell_type": "code",
      "metadata": {
        "id": "I3qrSUXT-t01",
        "colab_type": "code",
        "colab": {}
      },
      "source": [
        "# simple imputer\n",
        "from sklearn.impute import SimpleImputer\n",
        "\n",
        "# numeric imputation: mean by default\n",
        "simple_imputer_num = SimpleImputer()\n",
        "train_X_num = pd.DataFrame(simple_imputer_num.fit_transform(X_train[numerical_cols_train]), columns=numerical_cols_train, index=X_train.index)\n",
        "test_X_num = pd.DataFrame(simple_imputer_num.transform(X_test[numerical_cols_test]), columns=numerical_cols_test, index=X_test.index)\n",
        "\n",
        "# categorical imputation: most_frequent\n",
        "simple_imputer_cat = SimpleImputer(strategy = 'most_frequent')\n",
        "train_X_cat = pd.DataFrame(simple_imputer_cat.fit_transform(X_train[low_cardinality_cols_train]), columns=low_cardinality_cols_train, index=X_train.index)\n",
        "test_X_cat = pd.DataFrame(simple_imputer_cat.transform(X_test[low_cardinality_cols_test]), columns=low_cardinality_cols_test, index=X_test.index)"
      ],
      "execution_count": 0,
      "outputs": []
    },
    {
      "cell_type": "markdown",
      "metadata": {
        "id": "ikMDoWLG4M00",
        "colab_type": "text"
      },
      "source": [
        "## Encoding categorical variables\n",
        "\n",
        "Prior to training your model you will have to encode the categorical variables. Inspect all categorical variables and use the ``LabelEncoder`` or the ``OneHotEncoder`` where appropriate. Remember that you have to combine the numerical as well as the label encoded and the one hot encoded dataframes at the end."
      ]
    },
    {
      "cell_type": "code",
      "metadata": {
        "id": "-pcvS7_-4M00",
        "colab_type": "code",
        "colab": {}
      },
      "source": [
        "# label encoding\n",
        "from sklearn.preprocessing import LabelEncoder\n",
        "\n",
        "# copy to protect original data\n",
        "label_X_train_cat = train_X_cat.copy()\n",
        "label_X_test_cat = test_X_cat.copy()\n",
        "\n",
        "label_encoder = LabelEncoder()\n",
        "for col in train_X_cat:\n",
        "    label_X_train_cat[col] = label_encoder.fit_transform(label_X_train_cat[col])\n",
        "    label_X_test_cat[col] = label_encoder.transform(label_X_test_cat[col])"
      ],
      "execution_count": 0,
      "outputs": []
    },
    {
      "cell_type": "code",
      "metadata": {
        "id": "65xW39ascc5-",
        "colab_type": "code",
        "outputId": "d8326e5a-1a4a-46a5-bac6-6e52088b953b",
        "colab": {
          "base_uri": "https://localhost:8080/",
          "height": 204
        }
      },
      "source": [
        "# join numeric and categorical columns\n",
        "X_train_joined = train_X_num.join(label_X_train_cat)\n",
        "X_test_joined = test_X_num.join(label_X_test_cat)\n",
        "X_train_joined.head()"
      ],
      "execution_count": 0,
      "outputs": [
        {
          "output_type": "execute_result",
          "data": {
            "text/html": [
              "<div>\n",
              "<style scoped>\n",
              "    .dataframe tbody tr th:only-of-type {\n",
              "        vertical-align: middle;\n",
              "    }\n",
              "\n",
              "    .dataframe tbody tr th {\n",
              "        vertical-align: top;\n",
              "    }\n",
              "\n",
              "    .dataframe thead th {\n",
              "        text-align: right;\n",
              "    }\n",
              "</style>\n",
              "<table border=\"1\" class=\"dataframe\">\n",
              "  <thead>\n",
              "    <tr style=\"text-align: right;\">\n",
              "      <th></th>\n",
              "      <th>Year_of_Release</th>\n",
              "      <th>Critic_Score</th>\n",
              "      <th>Critic_Count</th>\n",
              "      <th>User_Score</th>\n",
              "      <th>User_Count</th>\n",
              "      <th>Platform</th>\n",
              "      <th>Genre</th>\n",
              "      <th>Rating</th>\n",
              "    </tr>\n",
              "  </thead>\n",
              "  <tbody>\n",
              "    <tr>\n",
              "      <th>13348</th>\n",
              "      <td>2005.0</td>\n",
              "      <td>54.000000</td>\n",
              "      <td>9.000000</td>\n",
              "      <td>7.130000</td>\n",
              "      <td>162.891477</td>\n",
              "      <td>7</td>\n",
              "      <td>4</td>\n",
              "      <td>1</td>\n",
              "    </tr>\n",
              "    <tr>\n",
              "      <th>15085</th>\n",
              "      <td>2009.0</td>\n",
              "      <td>69.012498</td>\n",
              "      <td>26.358895</td>\n",
              "      <td>7.122507</td>\n",
              "      <td>162.891477</td>\n",
              "      <td>28</td>\n",
              "      <td>1</td>\n",
              "      <td>1</td>\n",
              "    </tr>\n",
              "    <tr>\n",
              "      <th>12943</th>\n",
              "      <td>2002.0</td>\n",
              "      <td>69.012498</td>\n",
              "      <td>26.358895</td>\n",
              "      <td>7.122507</td>\n",
              "      <td>162.891477</td>\n",
              "      <td>29</td>\n",
              "      <td>4</td>\n",
              "      <td>1</td>\n",
              "    </tr>\n",
              "    <tr>\n",
              "      <th>16675</th>\n",
              "      <td>2006.0</td>\n",
              "      <td>69.012498</td>\n",
              "      <td>26.358895</td>\n",
              "      <td>7.122507</td>\n",
              "      <td>162.891477</td>\n",
              "      <td>19</td>\n",
              "      <td>5</td>\n",
              "      <td>1</td>\n",
              "    </tr>\n",
              "    <tr>\n",
              "      <th>8135</th>\n",
              "      <td>2011.0</td>\n",
              "      <td>69.012498</td>\n",
              "      <td>26.358895</td>\n",
              "      <td>7.130000</td>\n",
              "      <td>162.891477</td>\n",
              "      <td>26</td>\n",
              "      <td>0</td>\n",
              "      <td>2</td>\n",
              "    </tr>\n",
              "  </tbody>\n",
              "</table>\n",
              "</div>"
            ],
            "text/plain": [
              "       Year_of_Release  Critic_Score  Critic_Count  ...  Platform  Genre  Rating\n",
              "13348           2005.0     54.000000      9.000000  ...         7      4       1\n",
              "15085           2009.0     69.012498     26.358895  ...        28      1       1\n",
              "12943           2002.0     69.012498     26.358895  ...        29      4       1\n",
              "16675           2006.0     69.012498     26.358895  ...        19      5       1\n",
              "8135            2011.0     69.012498     26.358895  ...        26      0       2\n",
              "\n",
              "[5 rows x 8 columns]"
            ]
          },
          "metadata": {
            "tags": []
          },
          "execution_count": 43
        }
      ]
    },
    {
      "cell_type": "code",
      "metadata": {
        "id": "E_rWp5KKcgkV",
        "colab_type": "code",
        "outputId": "5fa9a53d-bf33-416a-cafc-4a9427d11600",
        "colab": {
          "base_uri": "https://localhost:8080/",
          "height": 51
        }
      },
      "source": [
        "# check if imputation worked\n",
        "missing_values_train = X_train_joined.columns.values[X_train_joined.isna().sum() > 0]\n",
        "missing_values_train\n",
        "\n",
        "missing_values_test = X_test_joined.columns.values[X_test_joined.isna().sum() > 0]\n",
        "missing_values_test\n",
        "\n",
        "print(missing_values_train)\n",
        "print(missing_values_test)"
      ],
      "execution_count": 0,
      "outputs": [
        {
          "output_type": "stream",
          "text": [
            "[]\n",
            "[]\n"
          ],
          "name": "stdout"
        }
      ]
    },
    {
      "cell_type": "markdown",
      "metadata": {
        "id": "OTNACY_L4M02",
        "colab_type": "text"
      },
      "source": [
        "## Train the Model\n",
        "\n",
        "Now our dataset should be ready and we can train a predictive model. Train a Decision Tree as well as a Random Forest and compare the in-sample as well as the out-of-sample performance of both models usinge the mean absolute error."
      ]
    },
    {
      "cell_type": "code",
      "metadata": {
        "id": "bEUdpvj74M03",
        "colab_type": "code",
        "outputId": "bd689d00-2de0-4a7b-8bb0-e1db5af47639",
        "colab": {
          "base_uri": "https://localhost:8080/",
          "height": 34
        }
      },
      "source": [
        "# decision tree\n",
        "from sklearn.tree import DecisionTreeRegressor\n",
        "from sklearn.metrics import mean_absolute_error\n",
        "\n",
        "# Define\n",
        "dt_model = DecisionTreeRegressor(random_state=1)\n",
        "\n",
        "# Fit\n",
        "dt_model.fit(X_train_joined, y_train)\n",
        "\n",
        "# Prediction\n",
        "preds = dt_model.predict(X_test_joined)\n",
        "\n",
        "# Evaluate\n",
        "score = mean_absolute_error(y_test, preds)\n",
        "print('MAE: {}'.format(score))"
      ],
      "execution_count": 0,
      "outputs": [
        {
          "output_type": "stream",
          "text": [
            "MAE: 0.568390723559546\n"
          ],
          "name": "stdout"
        }
      ]
    },
    {
      "cell_type": "code",
      "metadata": {
        "id": "nJ4Lo_CbdQ5u",
        "colab_type": "code",
        "outputId": "604bfe25-3512-4f5b-a0b2-afbabade9054",
        "colab": {
          "base_uri": "https://localhost:8080/",
          "height": 34
        }
      },
      "source": [
        "# random forest\n",
        "from sklearn.ensemble import RandomForestRegressor\n",
        "\n",
        "# Define\n",
        "rf_model = RandomForestRegressor(n_estimators=100, max_depth = 10, random_state=0) #depth of 10 workes best\n",
        "\n",
        "# Fit\n",
        "rf_model.fit(X_train_joined, y_train)\n",
        "\n",
        "# Prediction\n",
        "preds = rf_model.predict(X_test_joined)\n",
        "\n",
        "# Evaluate\n",
        "score = mean_absolute_error(y_test, preds)\n",
        "print('MAE: {}'.format(score))"
      ],
      "execution_count": 0,
      "outputs": [
        {
          "output_type": "stream",
          "text": [
            "MAE: 0.45003181539666814\n"
          ],
          "name": "stdout"
        }
      ]
    }
  ]
}