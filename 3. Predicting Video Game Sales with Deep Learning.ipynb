{
  "nbformat": 4,
  "nbformat_minor": 0,
  "metadata": {
    "colab": {
      "name": "Assignment_3_solution.ipynb",
      "provenance": [],
      "collapsed_sections": [],
      "include_colab_link": true
    },
    "kernelspec": {
      "display_name": "Python 3",
      "language": "python",
      "name": "python3"
    },
    "language_info": {
      "codemirror_mode": {
        "name": "ipython",
        "version": 3
      },
      "file_extension": ".py",
      "mimetype": "text/x-python",
      "name": "python",
      "nbconvert_exporter": "python",
      "pygments_lexer": "ipython3",
      "version": "3.7.4"
    },
    "toc": {
      "base_numbering": 1,
      "nav_menu": {},
      "number_sections": true,
      "sideBar": true,
      "skip_h1_title": true,
      "title_cell": "Table of Contents",
      "title_sidebar": "Contents",
      "toc_cell": false,
      "toc_position": {},
      "toc_section_display": true,
      "toc_window_display": false
    }
  },
  "cells": [
    {
      "cell_type": "markdown",
      "metadata": {
        "id": "view-in-github",
        "colab_type": "text"
      },
      "source": [
        "<a href=\"https://colab.research.google.com/github/janinerottmann/Practical-Data-Science/blob/master/3.%20Predicting%20Video%20Game%20Sales%20with%20Deep%20Learning.ipynb\" target=\"_parent\"><img src=\"https://colab.research.google.com/assets/colab-badge.svg\" alt=\"Open In Colab\"/></a>"
      ]
    },
    {
      "cell_type": "markdown",
      "metadata": {
        "colab_type": "text",
        "id": "tGc2_6yfntEV"
      },
      "source": [
        "*Practical Data Science 19/20*\n",
        "# Programming Assignment 3 - Predicting Video Game Sales with Deep Learning"
      ]
    },
    {
      "cell_type": "markdown",
      "metadata": {
        "colab_type": "text",
        "id": "IoLPBsbcntEY"
      },
      "source": [
        "In this programming assignment, you need to apply your new deep learning knowledge. In contrast to PA2, you don't have to bother about feature engineering. You will build an artificial neural network with multiple layers that learns features from the raw data."
      ]
    },
    {
      "cell_type": "markdown",
      "metadata": {
        "colab_type": "text",
        "id": "JcWF9CzcntEb"
      },
      "source": [
        "## Introduction and Dataset\n",
        "\n",
        "You are provided with a dataset containing a list of video games with sales greater than 100.000 copies. Again, your task is to build a model predicting the yearly global sales (column ``Global_Sales``) of a video game leveraging the available features.\n",
        "\n",
        "To help you get started, the following blocks of code import the dataset using pandas: "
      ]
    },
    {
      "cell_type": "code",
      "metadata": {
        "colab_type": "code",
        "id": "f0J9ncohntEd",
        "colab": {}
      },
      "source": [
        "import pandas as pd"
      ],
      "execution_count": 0,
      "outputs": []
    },
    {
      "cell_type": "code",
      "metadata": {
        "colab_type": "code",
        "id": "522615ykntEj",
        "outputId": "ba00f6fd-d369-4a2e-a3a2-88acd6584450",
        "colab": {
          "base_uri": "https://localhost:8080/",
          "height": 419
        }
      },
      "source": [
        "data_path = 'https://raw.githubusercontent.com/pds1920/_a2-template/master/data/video_game_sales.csv'\n",
        "df = pd.read_csv(data_path)\n",
        "df"
      ],
      "execution_count": 0,
      "outputs": [
        {
          "output_type": "execute_result",
          "data": {
            "text/html": [
              "<div>\n",
              "<style scoped>\n",
              "    .dataframe tbody tr th:only-of-type {\n",
              "        vertical-align: middle;\n",
              "    }\n",
              "\n",
              "    .dataframe tbody tr th {\n",
              "        vertical-align: top;\n",
              "    }\n",
              "\n",
              "    .dataframe thead th {\n",
              "        text-align: right;\n",
              "    }\n",
              "</style>\n",
              "<table border=\"1\" class=\"dataframe\">\n",
              "  <thead>\n",
              "    <tr style=\"text-align: right;\">\n",
              "      <th></th>\n",
              "      <th>Name</th>\n",
              "      <th>Platform</th>\n",
              "      <th>Year_of_Release</th>\n",
              "      <th>Genre</th>\n",
              "      <th>Global_Sales</th>\n",
              "      <th>Critic_Score</th>\n",
              "      <th>Critic_Count</th>\n",
              "      <th>User_Score</th>\n",
              "      <th>User_Count</th>\n",
              "      <th>Rating</th>\n",
              "    </tr>\n",
              "  </thead>\n",
              "  <tbody>\n",
              "    <tr>\n",
              "      <th>0</th>\n",
              "      <td>Wii Sports</td>\n",
              "      <td>Wii</td>\n",
              "      <td>2006.0</td>\n",
              "      <td>Sports</td>\n",
              "      <td>82.53</td>\n",
              "      <td>76.0</td>\n",
              "      <td>51.0</td>\n",
              "      <td>8.0</td>\n",
              "      <td>322.0</td>\n",
              "      <td>E</td>\n",
              "    </tr>\n",
              "    <tr>\n",
              "      <th>1</th>\n",
              "      <td>Super Mario Bros.</td>\n",
              "      <td>NES</td>\n",
              "      <td>1985.0</td>\n",
              "      <td>Platform</td>\n",
              "      <td>40.24</td>\n",
              "      <td>NaN</td>\n",
              "      <td>NaN</td>\n",
              "      <td>NaN</td>\n",
              "      <td>NaN</td>\n",
              "      <td>NaN</td>\n",
              "    </tr>\n",
              "    <tr>\n",
              "      <th>2</th>\n",
              "      <td>Mario Kart Wii</td>\n",
              "      <td>Wii</td>\n",
              "      <td>2008.0</td>\n",
              "      <td>Racing</td>\n",
              "      <td>35.52</td>\n",
              "      <td>82.0</td>\n",
              "      <td>73.0</td>\n",
              "      <td>8.3</td>\n",
              "      <td>709.0</td>\n",
              "      <td>E</td>\n",
              "    </tr>\n",
              "    <tr>\n",
              "      <th>3</th>\n",
              "      <td>Wii Sports Resort</td>\n",
              "      <td>Wii</td>\n",
              "      <td>2009.0</td>\n",
              "      <td>Sports</td>\n",
              "      <td>32.77</td>\n",
              "      <td>80.0</td>\n",
              "      <td>73.0</td>\n",
              "      <td>8.0</td>\n",
              "      <td>192.0</td>\n",
              "      <td>E</td>\n",
              "    </tr>\n",
              "    <tr>\n",
              "      <th>4</th>\n",
              "      <td>Pokemon Red/Pokemon Blue</td>\n",
              "      <td>GB</td>\n",
              "      <td>1996.0</td>\n",
              "      <td>Role-Playing</td>\n",
              "      <td>31.37</td>\n",
              "      <td>NaN</td>\n",
              "      <td>NaN</td>\n",
              "      <td>NaN</td>\n",
              "      <td>NaN</td>\n",
              "      <td>NaN</td>\n",
              "    </tr>\n",
              "    <tr>\n",
              "      <th>...</th>\n",
              "      <td>...</td>\n",
              "      <td>...</td>\n",
              "      <td>...</td>\n",
              "      <td>...</td>\n",
              "      <td>...</td>\n",
              "      <td>...</td>\n",
              "      <td>...</td>\n",
              "      <td>...</td>\n",
              "      <td>...</td>\n",
              "      <td>...</td>\n",
              "    </tr>\n",
              "    <tr>\n",
              "      <th>16706</th>\n",
              "      <td>Samurai Warriors: Sanada Maru</td>\n",
              "      <td>PS3</td>\n",
              "      <td>2016.0</td>\n",
              "      <td>Action</td>\n",
              "      <td>0.01</td>\n",
              "      <td>NaN</td>\n",
              "      <td>NaN</td>\n",
              "      <td>NaN</td>\n",
              "      <td>NaN</td>\n",
              "      <td>NaN</td>\n",
              "    </tr>\n",
              "    <tr>\n",
              "      <th>16707</th>\n",
              "      <td>LMA Manager 2007</td>\n",
              "      <td>X360</td>\n",
              "      <td>2006.0</td>\n",
              "      <td>Sports</td>\n",
              "      <td>0.01</td>\n",
              "      <td>NaN</td>\n",
              "      <td>NaN</td>\n",
              "      <td>NaN</td>\n",
              "      <td>NaN</td>\n",
              "      <td>NaN</td>\n",
              "    </tr>\n",
              "    <tr>\n",
              "      <th>16708</th>\n",
              "      <td>Haitaka no Psychedelica</td>\n",
              "      <td>PSV</td>\n",
              "      <td>2016.0</td>\n",
              "      <td>Adventure</td>\n",
              "      <td>0.01</td>\n",
              "      <td>NaN</td>\n",
              "      <td>NaN</td>\n",
              "      <td>NaN</td>\n",
              "      <td>NaN</td>\n",
              "      <td>NaN</td>\n",
              "    </tr>\n",
              "    <tr>\n",
              "      <th>16709</th>\n",
              "      <td>Spirits &amp; Spells</td>\n",
              "      <td>GBA</td>\n",
              "      <td>2003.0</td>\n",
              "      <td>Platform</td>\n",
              "      <td>0.01</td>\n",
              "      <td>NaN</td>\n",
              "      <td>NaN</td>\n",
              "      <td>NaN</td>\n",
              "      <td>NaN</td>\n",
              "      <td>NaN</td>\n",
              "    </tr>\n",
              "    <tr>\n",
              "      <th>16710</th>\n",
              "      <td>Winning Post 8 2016</td>\n",
              "      <td>PSV</td>\n",
              "      <td>2016.0</td>\n",
              "      <td>Simulation</td>\n",
              "      <td>0.01</td>\n",
              "      <td>NaN</td>\n",
              "      <td>NaN</td>\n",
              "      <td>NaN</td>\n",
              "      <td>NaN</td>\n",
              "      <td>NaN</td>\n",
              "    </tr>\n",
              "  </tbody>\n",
              "</table>\n",
              "<p>16711 rows × 10 columns</p>\n",
              "</div>"
            ],
            "text/plain": [
              "                                Name Platform  ...  User_Count Rating\n",
              "0                         Wii Sports      Wii  ...       322.0      E\n",
              "1                  Super Mario Bros.      NES  ...         NaN    NaN\n",
              "2                     Mario Kart Wii      Wii  ...       709.0      E\n",
              "3                  Wii Sports Resort      Wii  ...       192.0      E\n",
              "4           Pokemon Red/Pokemon Blue       GB  ...         NaN    NaN\n",
              "...                              ...      ...  ...         ...    ...\n",
              "16706  Samurai Warriors: Sanada Maru      PS3  ...         NaN    NaN\n",
              "16707               LMA Manager 2007     X360  ...         NaN    NaN\n",
              "16708        Haitaka no Psychedelica      PSV  ...         NaN    NaN\n",
              "16709               Spirits & Spells      GBA  ...         NaN    NaN\n",
              "16710            Winning Post 8 2016      PSV  ...         NaN    NaN\n",
              "\n",
              "[16711 rows x 10 columns]"
            ]
          },
          "metadata": {
            "tags": []
          },
          "execution_count": 3
        }
      ]
    },
    {
      "cell_type": "markdown",
      "metadata": {
        "colab_type": "text",
        "id": "ofYTnNAR-9MY"
      },
      "source": [
        "## Creating a DataBunch"
      ]
    },
    {
      "cell_type": "markdown",
      "metadata": {
        "colab_type": "text",
        "id": "ipIUFLeW_uSM"
      },
      "source": [
        "First, import everything we need for the tabular model"
      ]
    },
    {
      "cell_type": "code",
      "metadata": {
        "colab_type": "code",
        "id": "gBai9D2s_lpV",
        "colab": {}
      },
      "source": [
        "from fastai import * \n",
        "from fastai.tabular import * \n",
        "from sklearn.model_selection import train_test_split"
      ],
      "execution_count": 0,
      "outputs": []
    },
    {
      "cell_type": "markdown",
      "metadata": {
        "colab_type": "text",
        "id": "OvdLUmcaAq9R"
      },
      "source": [
        "To create a `TabularDataBunch`, you need to assign the variables to dependent, categorical and continuous variables"
      ]
    },
    {
      "cell_type": "code",
      "metadata": {
        "colab_type": "code",
        "id": "Vdezd0j7_Wdi",
        "colab": {}
      },
      "source": [
        "dep_var = 'Global_Sales'\n",
        "cat_names = ['Platform', 'Genre', 'Rating']\n",
        "cont_names = ['Year_of_Release', 'Critic_Score', 'Critic_Count', 'User_Score', 'User_Count']  #aren't those continous variables by default?"
      ],
      "execution_count": 0,
      "outputs": []
    },
    {
      "cell_type": "markdown",
      "metadata": {
        "colab_type": "text",
        "id": "iLhapopYGT3h"
      },
      "source": [
        "fast.ai contains classes that define [transformations](https://docs.fast.ai/tabular.transform.html) for preprocessing. Provide a list of appropriate preprocessing steps."
      ]
    },
    {
      "cell_type": "code",
      "metadata": {
        "colab_type": "code",
        "id": "_9KQFBwG_dJ0",
        "colab": {}
      },
      "source": [
        "procs = TabularProc(cat_names, cont_names)\n",
        "procs = [FillMissing, Categorify, Normalize]"
      ],
      "execution_count": 0,
      "outputs": []
    },
    {
      "cell_type": "markdown",
      "metadata": {
        "colab_type": "text",
        "id": "n9lT7cAmA5F2"
      },
      "source": [
        "You also need to define the train and validation set (using indices!). Make sure that the split is the same as in Assignment 2 (Note: Don't split the dataset at this point!)"
      ]
    },
    {
      "cell_type": "code",
      "metadata": {
        "colab_type": "code",
        "id": "LUcbJryxn12c",
        "outputId": "bda16c81-6c27-4fe3-98f5-96238aa80420",
        "colab": {
          "base_uri": "https://localhost:8080/",
          "height": 34
        }
      },
      "source": [
        "train_idx, valid_idx = train_test_split(range(len(df)), test_size=0.2, random_state = 2) # I used random_state = 2 in assignment 2\n",
        "train_idx[:5]"
      ],
      "execution_count": 0,
      "outputs": [
        {
          "output_type": "execute_result",
          "data": {
            "text/plain": [
              "[13348, 15085, 12943, 16675, 8135]"
            ]
          },
          "metadata": {
            "tags": []
          },
          "execution_count": 7
        }
      ]
    },
    {
      "cell_type": "markdown",
      "metadata": {
        "colab_type": "text",
        "id": "SqUQuG7UB3qw"
      },
      "source": [
        "Now you're ready to pass this information to `TabularDataBunch.from_df` to create the DataBunch that you'll use for training."
      ]
    },
    {
      "cell_type": "code",
      "metadata": {
        "colab_type": "code",
        "id": "_BTDl0Rfn7UO",
        "colab": {}
      },
      "source": [
        "data = TabularDataBunch.from_df(path=data_path, df=df, dep_var=dep_var, valid_idx=valid_idx, \n",
        "                                procs=procs, cat_names=cat_names, cont_names=cont_names, bs=32)"
      ],
      "execution_count": 0,
      "outputs": []
    },
    {
      "cell_type": "markdown",
      "metadata": {
        "colab_type": "text",
        "id": "TnVNxb0eAASO"
      },
      "source": [
        "How is the data target variable stored in the `DataBunch`? Report the data type using `type()`"
      ]
    },
    {
      "cell_type": "code",
      "metadata": {
        "colab_type": "code",
        "id": "YrE-dJ0oARl3",
        "outputId": "60a32f7e-e9c1-4bb6-df29-9ff3630bd02b",
        "colab": {
          "base_uri": "https://localhost:8080/",
          "height": 34
        }
      },
      "source": [
        "type(data.y)\n",
        "# target variable is stored in a FloatList (not in a column)"
      ],
      "execution_count": 0,
      "outputs": [
        {
          "output_type": "execute_result",
          "data": {
            "text/plain": [
              "fastai.data_block.FloatList"
            ]
          },
          "metadata": {
            "tags": []
          },
          "execution_count": 9
        }
      ]
    },
    {
      "cell_type": "markdown",
      "metadata": {
        "colab_type": "text",
        "id": "NHPY-ROICpQS"
      },
      "source": [
        "## Modeling"
      ]
    },
    {
      "cell_type": "markdown",
      "metadata": {
        "colab_type": "text",
        "id": "2QbIfj5hCz27"
      },
      "source": [
        "### Create Learner\n",
        "\n",
        "Create an [appropriate learner](https://docs.fast.ai/tabular.learner.html) for data. A learner creates a neural network for us.\n",
        "- Use 100 nodes in the first and 50 nodes in the second layer\n",
        "- Choose the [metrics](https://docs.fast.ai/metrics.html) *root mean squared error* and mean *absolute error*. You can pass a list of metrics to the learner.\n",
        "- *Optional*: Specify the embedding size of one categorical variable"
      ]
    },
    {
      "cell_type": "code",
      "metadata": {
        "colab_type": "code",
        "id": "MPbUxgzKqHf5",
        "colab": {}
      },
      "source": [
        "learn = tabular_learner(data, layers=[100,50], emb_szs={'Genre': 10}, metrics=[root_mean_squared_error, mean_absolute_error])"
      ],
      "execution_count": 0,
      "outputs": []
    },
    {
      "cell_type": "markdown",
      "metadata": {
        "colab_type": "text",
        "id": "e7m5M2PHJoiZ"
      },
      "source": [
        "How many Embeddings are there in the model? Use `learn.data.show_batch()` to explain why!"
      ]
    },
    {
      "cell_type": "code",
      "metadata": {
        "colab_type": "code",
        "id": "tumJY7DNJjp-",
        "outputId": "2146eea3-741d-4ae3-96a6-fa71e71236f5",
        "colab": {
          "base_uri": "https://localhost:8080/",
          "height": 224
        }
      },
      "source": [
        "learn.data.show_batch()\n",
        "# 8 features, 1 target variable, but 14 Embeddings.\n",
        "# Reason: New columns for NAs in feature variables."
      ],
      "execution_count": 0,
      "outputs": [
        {
          "output_type": "display_data",
          "data": {
            "text/html": [
              "<table border=\"1\" class=\"dataframe\">\n",
              "  <thead>\n",
              "    <tr style=\"text-align: right;\">\n",
              "      <th>Platform</th>\n",
              "      <th>Genre</th>\n",
              "      <th>Rating</th>\n",
              "      <th>Year_of_Release_na</th>\n",
              "      <th>Critic_Score_na</th>\n",
              "      <th>Critic_Count_na</th>\n",
              "      <th>User_Score_na</th>\n",
              "      <th>User_Count_na</th>\n",
              "      <th>Year_of_Release</th>\n",
              "      <th>Critic_Score</th>\n",
              "      <th>Critic_Count</th>\n",
              "      <th>User_Score</th>\n",
              "      <th>User_Count</th>\n",
              "      <th>target</th>\n",
              "    </tr>\n",
              "  </thead>\n",
              "  <tbody>\n",
              "    <tr>\n",
              "      <td>PS</td>\n",
              "      <td>Racing</td>\n",
              "      <td>#na#</td>\n",
              "      <td>False</td>\n",
              "      <td>True</td>\n",
              "      <td>True</td>\n",
              "      <td>True</td>\n",
              "      <td>True</td>\n",
              "      <td>-1.2778</td>\n",
              "      <td>0.0995</td>\n",
              "      <td>-0.1929</td>\n",
              "      <td>0.0044</td>\n",
              "      <td>-0.1603</td>\n",
              "      <td>0.4</td>\n",
              "    </tr>\n",
              "    <tr>\n",
              "      <td>Wii</td>\n",
              "      <td>Simulation</td>\n",
              "      <td>E10+</td>\n",
              "      <td>False</td>\n",
              "      <td>False</td>\n",
              "      <td>False</td>\n",
              "      <td>False</td>\n",
              "      <td>False</td>\n",
              "      <td>0.4288</td>\n",
              "      <td>0.6159</td>\n",
              "      <td>1.3660</td>\n",
              "      <td>1.3663</td>\n",
              "      <td>-0.1578</td>\n",
              "      <td>0.86</td>\n",
              "    </tr>\n",
              "    <tr>\n",
              "      <td>XB</td>\n",
              "      <td>Misc</td>\n",
              "      <td>#na#</td>\n",
              "      <td>False</td>\n",
              "      <td>True</td>\n",
              "      <td>True</td>\n",
              "      <td>True</td>\n",
              "      <td>True</td>\n",
              "      <td>-0.5951</td>\n",
              "      <td>0.0995</td>\n",
              "      <td>-0.1929</td>\n",
              "      <td>0.0044</td>\n",
              "      <td>-0.1603</td>\n",
              "      <td>0.07</td>\n",
              "    </tr>\n",
              "    <tr>\n",
              "      <td>DS</td>\n",
              "      <td>Adventure</td>\n",
              "      <td>#na#</td>\n",
              "      <td>False</td>\n",
              "      <td>True</td>\n",
              "      <td>True</td>\n",
              "      <td>True</td>\n",
              "      <td>True</td>\n",
              "      <td>0.5995</td>\n",
              "      <td>0.0995</td>\n",
              "      <td>-0.1929</td>\n",
              "      <td>0.0044</td>\n",
              "      <td>-0.1603</td>\n",
              "      <td>0.07</td>\n",
              "    </tr>\n",
              "    <tr>\n",
              "      <td>PC</td>\n",
              "      <td>Action</td>\n",
              "      <td>M</td>\n",
              "      <td>False</td>\n",
              "      <td>True</td>\n",
              "      <td>True</td>\n",
              "      <td>False</td>\n",
              "      <td>False</td>\n",
              "      <td>-1.2778</td>\n",
              "      <td>0.0995</td>\n",
              "      <td>-0.1929</td>\n",
              "      <td>1.6645</td>\n",
              "      <td>0.0322</td>\n",
              "      <td>0.05</td>\n",
              "    </tr>\n",
              "  </tbody>\n",
              "</table>"
            ],
            "text/plain": [
              "<IPython.core.display.HTML object>"
            ]
          },
          "metadata": {
            "tags": []
          }
        }
      ]
    },
    {
      "cell_type": "code",
      "metadata": {
        "id": "uQxERCR8yjev",
        "colab_type": "code",
        "outputId": "bb9f31b1-5c9a-40c7-eaca-46e5edeed1df",
        "colab": {
          "base_uri": "https://localhost:8080/",
          "height": 816
        }
      },
      "source": [
        "learn.summary()"
      ],
      "execution_count": 0,
      "outputs": [
        {
          "output_type": "execute_result",
          "data": {
            "text/plain": [
              "TabularModel\n",
              "======================================================================\n",
              "Layer (type)         Output Shape         Param #    Trainable \n",
              "======================================================================\n",
              "Embedding            [11]                 352        True      \n",
              "______________________________________________________________________\n",
              "Embedding            [10]                 130        True      \n",
              "______________________________________________________________________\n",
              "Embedding            [5]                  45         True      \n",
              "______________________________________________________________________\n",
              "Embedding            [3]                  9          True      \n",
              "______________________________________________________________________\n",
              "Embedding            [3]                  9          True      \n",
              "______________________________________________________________________\n",
              "Embedding            [3]                  9          True      \n",
              "______________________________________________________________________\n",
              "Embedding            [3]                  9          True      \n",
              "______________________________________________________________________\n",
              "Embedding            [3]                  9          True      \n",
              "______________________________________________________________________\n",
              "Dropout              [41]                 0          False     \n",
              "______________________________________________________________________\n",
              "BatchNorm1d          [5]                  10         True      \n",
              "______________________________________________________________________\n",
              "Linear               [100]                4,700      True      \n",
              "______________________________________________________________________\n",
              "ReLU                 [100]                0          False     \n",
              "______________________________________________________________________\n",
              "BatchNorm1d          [100]                200        True      \n",
              "______________________________________________________________________\n",
              "Linear               [50]                 5,050      True      \n",
              "______________________________________________________________________\n",
              "ReLU                 [50]                 0          False     \n",
              "______________________________________________________________________\n",
              "BatchNorm1d          [50]                 100        True      \n",
              "______________________________________________________________________\n",
              "Linear               [1]                  51         True      \n",
              "______________________________________________________________________\n",
              "\n",
              "Total params: 10,683\n",
              "Total trainable params: 10,683\n",
              "Total non-trainable params: 0\n",
              "Optimized with 'torch.optim.adam.Adam', betas=(0.9, 0.99)\n",
              "Using true weight decay as discussed in https://www.fast.ai/2018/07/02/adam-weight-decay/ \n",
              "Loss function : FlattenedLoss\n",
              "======================================================================\n",
              "Callbacks functions applied "
            ]
          },
          "metadata": {
            "tags": []
          },
          "execution_count": 12
        }
      ]
    },
    {
      "cell_type": "markdown",
      "metadata": {
        "colab_type": "text",
        "id": "iL4SQ73uDCMg"
      },
      "source": [
        "### Find the learning rate \n",
        "You need to find a suitable learning rate for the training\n",
        "- Read the [docs](https://docs.fast.ai/callbacks.lr_finder.html) how to find the right learning rate\n",
        "- Repeat this step until you get a nice plot ;)"
      ]
    },
    {
      "cell_type": "code",
      "metadata": {
        "colab_type": "code",
        "id": "stIFtKUBqMmf",
        "outputId": "6f22b205-dd89-4b99-8a41-427aa2412826",
        "colab": {
          "base_uri": "https://localhost:8080/",
          "height": 34
        }
      },
      "source": [
        "# find learning rate\n",
        "learn.lr_find(stop_div=False, num_it=50)"
      ],
      "execution_count": 0,
      "outputs": [
        {
          "output_type": "display_data",
          "data": {
            "text/html": [
              ""
            ],
            "text/plain": [
              "<IPython.core.display.HTML object>"
            ]
          },
          "metadata": {
            "tags": []
          }
        },
        {
          "output_type": "stream",
          "text": [
            "LR Finder is complete, type {learner_name}.recorder.plot() to see the graph.\n"
          ],
          "name": "stdout"
        }
      ]
    },
    {
      "cell_type": "code",
      "metadata": {
        "colab_type": "code",
        "id": "qI1wVvg9qO5y",
        "outputId": "698df51e-8d17-4db3-fcbd-5a9a1b3928c0",
        "colab": {
          "base_uri": "https://localhost:8080/",
          "height": 313
        }
      },
      "source": [
        "# plot\n",
        "learn.recorder.plot(suggestion=True)"
      ],
      "execution_count": 0,
      "outputs": [
        {
          "output_type": "stream",
          "text": [
            "Min numerical gradient: 5.75E-06\n",
            "Min loss divided by 10: 1.10E-01\n"
          ],
          "name": "stdout"
        },
        {
          "output_type": "display_data",
          "data": {
            "image/png": "[encoded data removed]",
            "text/plain": [
              "<Figure size 432x288 with 1 Axes>"
            ]
          },
          "metadata": {
            "tags": []
          }
        }
      ]
    },
    {
      "cell_type": "code",
      "metadata": {
        "id": "QmiQnGjItIfn",
        "colab_type": "code",
        "outputId": "16dbc8ee-cbbe-4946-fa75-ab5d7bb632af",
        "colab": {
          "base_uri": "https://localhost:8080/",
          "height": 34
        }
      },
      "source": [
        "# identify the steepest section on the learning rate finder plot:\n",
        "min_grad_lr = learn.recorder.min_grad_lr\n",
        "min_grad_lr"
      ],
      "execution_count": 0,
      "outputs": [
        {
          "output_type": "execute_result",
          "data": {
            "text/plain": [
              "5.754399373371569e-06"
            ]
          },
          "metadata": {
            "tags": []
          },
          "execution_count": 15
        }
      ]
    },
    {
      "cell_type": "markdown",
      "metadata": {
        "colab_type": "text",
        "id": "mZNWMhpdDGIx"
      },
      "source": [
        "### Fit the model\n",
        "\n",
        "- How many epochs (cycles) are necessary to train the model? Is there a problem with overfitting?"
      ]
    },
    {
      "cell_type": "code",
      "metadata": {
        "colab_type": "code",
        "id": "t1Vg9n-6DImj",
        "outputId": "e4cc5c07-06fa-448d-ff4f-d16edc747643",
        "colab": {
          "base_uri": "https://localhost:8080/",
          "height": 421
        }
      },
      "source": [
        "learn.fit_one_cycle(12, max_lr=slice(min_grad_lr))"
      ],
      "execution_count": 0,
      "outputs": [
        {
          "output_type": "display_data",
          "data": {
            "text/html": [
              "<table border=\"1\" class=\"dataframe\">\n",
              "  <thead>\n",
              "    <tr style=\"text-align: left;\">\n",
              "      <th>epoch</th>\n",
              "      <th>train_loss</th>\n",
              "      <th>valid_loss</th>\n",
              "      <th>root_mean_squared_error</th>\n",
              "      <th>mean_absolute_error</th>\n",
              "      <th>time</th>\n",
              "    </tr>\n",
              "  </thead>\n",
              "  <tbody>\n",
              "    <tr>\n",
              "      <td>0</td>\n",
              "      <td>1.482600</td>\n",
              "      <td>1.714985</td>\n",
              "      <td>1.079739</td>\n",
              "      <td>0.509680</td>\n",
              "      <td>00:04</td>\n",
              "    </tr>\n",
              "    <tr>\n",
              "      <td>1</td>\n",
              "      <td>3.106540</td>\n",
              "      <td>1.704261</td>\n",
              "      <td>1.076313</td>\n",
              "      <td>0.521344</td>\n",
              "      <td>00:04</td>\n",
              "    </tr>\n",
              "    <tr>\n",
              "      <td>2</td>\n",
              "      <td>5.363592</td>\n",
              "      <td>1.714002</td>\n",
              "      <td>1.072338</td>\n",
              "      <td>0.514538</td>\n",
              "      <td>00:04</td>\n",
              "    </tr>\n",
              "    <tr>\n",
              "      <td>3</td>\n",
              "      <td>1.669675</td>\n",
              "      <td>1.655870</td>\n",
              "      <td>1.051793</td>\n",
              "      <td>0.516492</td>\n",
              "      <td>00:04</td>\n",
              "    </tr>\n",
              "    <tr>\n",
              "      <td>4</td>\n",
              "      <td>1.726115</td>\n",
              "      <td>1.675944</td>\n",
              "      <td>1.059237</td>\n",
              "      <td>0.516881</td>\n",
              "      <td>00:04</td>\n",
              "    </tr>\n",
              "    <tr>\n",
              "      <td>5</td>\n",
              "      <td>2.589095</td>\n",
              "      <td>1.644660</td>\n",
              "      <td>1.048094</td>\n",
              "      <td>0.514313</td>\n",
              "      <td>00:04</td>\n",
              "    </tr>\n",
              "    <tr>\n",
              "      <td>6</td>\n",
              "      <td>1.913048</td>\n",
              "      <td>1.590645</td>\n",
              "      <td>1.024964</td>\n",
              "      <td>0.497994</td>\n",
              "      <td>00:04</td>\n",
              "    </tr>\n",
              "    <tr>\n",
              "      <td>7</td>\n",
              "      <td>6.284645</td>\n",
              "      <td>1.634542</td>\n",
              "      <td>1.039293</td>\n",
              "      <td>0.495934</td>\n",
              "      <td>00:04</td>\n",
              "    </tr>\n",
              "    <tr>\n",
              "      <td>8</td>\n",
              "      <td>1.918719</td>\n",
              "      <td>1.592748</td>\n",
              "      <td>1.021793</td>\n",
              "      <td>0.486943</td>\n",
              "      <td>00:04</td>\n",
              "    </tr>\n",
              "    <tr>\n",
              "      <td>9</td>\n",
              "      <td>2.492945</td>\n",
              "      <td>1.603094</td>\n",
              "      <td>1.031153</td>\n",
              "      <td>0.499760</td>\n",
              "      <td>00:04</td>\n",
              "    </tr>\n",
              "    <tr>\n",
              "      <td>10</td>\n",
              "      <td>1.772758</td>\n",
              "      <td>1.578303</td>\n",
              "      <td>1.027308</td>\n",
              "      <td>0.505183</td>\n",
              "      <td>00:04</td>\n",
              "    </tr>\n",
              "    <tr>\n",
              "      <td>11</td>\n",
              "      <td>1.920689</td>\n",
              "      <td>1.644537</td>\n",
              "      <td>1.043363</td>\n",
              "      <td>0.500216</td>\n",
              "      <td>00:04</td>\n",
              "    </tr>\n",
              "  </tbody>\n",
              "</table>"
            ],
            "text/plain": [
              "<IPython.core.display.HTML object>"
            ]
          },
          "metadata": {
            "tags": []
          }
        }
      ]
    },
    {
      "cell_type": "markdown",
      "metadata": {
        "id": "HNKkiBcI4KIM",
        "colab_type": "text"
      },
      "source": [
        "General observation:\n",
        "- Performance seames to vary with the embedding variable (tested Rating vs. Genre), embedding size (tested 5-50)\n",
        "and the number of iterations (tested 10-100)\n",
        "- Overfitting occurs now and then. It can be identified when model has good performance on train set whereas valid set has high losses.\n",
        "- Since DL is a blockbox I do not understand the processes in each layer and can not explain why results vary each time I run the code.\n",
        "\n",
        "Evaluation of cycles:\n",
        "- For multiple times I run the model with different parameters my general impression is that the performance increases within the first 5-7 iterations.\n",
        "- After that the performance often stagnated, declined or overfitting kicked in."
      ]
    },
    {
      "cell_type": "markdown",
      "metadata": {
        "colab_type": "text",
        "id": "xStuybwxntEq"
      },
      "source": [
        "### Evaluate the model\n",
        "\n",
        "Report the in-sample as well as the out-of-sample performance usinge the mean absolute error."
      ]
    },
    {
      "cell_type": "code",
      "metadata": {
        "colab_type": "code",
        "id": "bBbtzt8LqS_s",
        "outputId": "b2d52795-ddfa-4faf-e341-4621b72a6bbe",
        "colab": {
          "base_uri": "https://localhost:8080/",
          "height": 34
        }
      },
      "source": [
        "learn.predict(df.iloc[1])"
      ],
      "execution_count": 0,
      "outputs": [
        {
          "output_type": "execute_result",
          "data": {
            "text/plain": [
              "(FloatItem [0.869771], tensor([0.8698]), tensor([0.8698]))"
            ]
          },
          "metadata": {
            "tags": []
          },
          "execution_count": 18
        }
      ]
    },
    {
      "cell_type": "code",
      "metadata": {
        "colab_type": "code",
        "id": "WJV0RrZcG9ad",
        "outputId": "f6a34123-29ed-422f-b67b-470189ba66b2",
        "colab": {
          "base_uri": "https://localhost:8080/",
          "height": 224
        }
      },
      "source": [
        "learn.get_preds(ds_type=DatasetType.Valid)\n",
        "learn.show_results(ds_type=DatasetType.Valid)"
      ],
      "execution_count": 0,
      "outputs": [
        {
          "output_type": "display_data",
          "data": {
            "text/html": [
              "<table border=\"1\" class=\"dataframe\">\n",
              "  <thead>\n",
              "    <tr style=\"text-align: right;\">\n",
              "      <th>Platform</th>\n",
              "      <th>Genre</th>\n",
              "      <th>Rating</th>\n",
              "      <th>Year_of_Release_na</th>\n",
              "      <th>Critic_Score_na</th>\n",
              "      <th>Critic_Count_na</th>\n",
              "      <th>User_Score_na</th>\n",
              "      <th>User_Count_na</th>\n",
              "      <th>Year_of_Release</th>\n",
              "      <th>Critic_Score</th>\n",
              "      <th>Critic_Count</th>\n",
              "      <th>User_Score</th>\n",
              "      <th>User_Count</th>\n",
              "      <th>target</th>\n",
              "      <th>prediction</th>\n",
              "    </tr>\n",
              "  </thead>\n",
              "  <tbody>\n",
              "    <tr>\n",
              "      <td>GC</td>\n",
              "      <td>Misc</td>\n",
              "      <td>E10+</td>\n",
              "      <td>False</td>\n",
              "      <td>False</td>\n",
              "      <td>False</td>\n",
              "      <td>False</td>\n",
              "      <td>True</td>\n",
              "      <td>-0.2538</td>\n",
              "      <td>-2.6890</td>\n",
              "      <td>-1.3805</td>\n",
              "      <td>0.0044</td>\n",
              "      <td>-0.1603</td>\n",
              "      <td>0.05</td>\n",
              "      <td>[-0.183101]</td>\n",
              "    </tr>\n",
              "    <tr>\n",
              "      <td>PC</td>\n",
              "      <td>Strategy</td>\n",
              "      <td>#na#</td>\n",
              "      <td>False</td>\n",
              "      <td>True</td>\n",
              "      <td>True</td>\n",
              "      <td>True</td>\n",
              "      <td>True</td>\n",
              "      <td>-0.9365</td>\n",
              "      <td>0.0995</td>\n",
              "      <td>-0.1929</td>\n",
              "      <td>0.0044</td>\n",
              "      <td>-0.1603</td>\n",
              "      <td>0.02</td>\n",
              "      <td>[0.122026]</td>\n",
              "    </tr>\n",
              "    <tr>\n",
              "      <td>DS</td>\n",
              "      <td>Sports</td>\n",
              "      <td>#na#</td>\n",
              "      <td>False</td>\n",
              "      <td>True</td>\n",
              "      <td>True</td>\n",
              "      <td>True</td>\n",
              "      <td>True</td>\n",
              "      <td>0.0875</td>\n",
              "      <td>0.0995</td>\n",
              "      <td>-0.1929</td>\n",
              "      <td>0.0044</td>\n",
              "      <td>-0.1603</td>\n",
              "      <td>0.08</td>\n",
              "      <td>[-0.02133]</td>\n",
              "    </tr>\n",
              "    <tr>\n",
              "      <td>DS</td>\n",
              "      <td>Misc</td>\n",
              "      <td>#na#</td>\n",
              "      <td>False</td>\n",
              "      <td>True</td>\n",
              "      <td>True</td>\n",
              "      <td>True</td>\n",
              "      <td>True</td>\n",
              "      <td>0.7702</td>\n",
              "      <td>0.0995</td>\n",
              "      <td>-0.1929</td>\n",
              "      <td>0.0044</td>\n",
              "      <td>-0.1603</td>\n",
              "      <td>0.04</td>\n",
              "      <td>[-0.094949]</td>\n",
              "    </tr>\n",
              "    <tr>\n",
              "      <td>GBA</td>\n",
              "      <td>Racing</td>\n",
              "      <td>E</td>\n",
              "      <td>False</td>\n",
              "      <td>False</td>\n",
              "      <td>False</td>\n",
              "      <td>False</td>\n",
              "      <td>True</td>\n",
              "      <td>-0.5951</td>\n",
              "      <td>-0.5202</td>\n",
              "      <td>-1.2321</td>\n",
              "      <td>0.0044</td>\n",
              "      <td>-0.1603</td>\n",
              "      <td>0.01</td>\n",
              "      <td>[0.150127]</td>\n",
              "    </tr>\n",
              "  </tbody>\n",
              "</table>"
            ],
            "text/plain": [
              "<IPython.core.display.HTML object>"
            ]
          },
          "metadata": {
            "tags": []
          }
        }
      ]
    },
    {
      "cell_type": "markdown",
      "metadata": {
        "id": "zkkn0lYLuuY_",
        "colab_type": "text"
      },
      "source": [
        "## Discussion"
      ]
    },
    {
      "cell_type": "markdown",
      "metadata": {
        "id": "LKfelqvSuuZA",
        "colab_type": "text"
      },
      "source": [
        "Looking at the results, discuss the advantages and disadvantages of deep learning for tabular data."
      ]
    },
    {
      "cell_type": "markdown",
      "metadata": {
        "id": "PfbWlA8F7ubX",
        "colab_type": "text"
      },
      "source": [
        "Advantages of DL:\n",
        "- can solve complex problems\n",
        "- does not require feature engineering\n",
        "- can flexibly adapt to new challenges\n",
        "- due to high automation of libraries (such as fastai) DL is easily implemented\n",
        "\n",
        "Disadvantages:\n",
        "- requires large amount of data\n",
        "- training requires powerful hardware and is time consuming\n",
        "- as mentioned earlier: DL is a blackbox. Therefore understanding processing steps or how performance can be increased is difficult."
      ]
    }
  ]
}